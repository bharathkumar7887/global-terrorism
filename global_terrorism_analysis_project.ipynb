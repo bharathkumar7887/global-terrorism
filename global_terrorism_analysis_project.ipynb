{
  "nbformat": 4,
  "nbformat_minor": 0,
  "metadata": {
    "colab": {
      "private_outputs": true,
      "provenance": [],
      "collapsed_sections": [
        "beRrZCGUAJYm",
        "yQaldy8SH6Dl",
        "PH-0ReGfmX4f",
        "mDgbUHAGgjLW",
        "Y3lxredqlCYt",
        "3RnN4peoiCZX",
        "x71ZqKXriCWQ",
        "7hBIi_osiCS2",
        "JlHwYmJAmNHm",
        "nA9Y7ga8ng1Z",
        "PBTbrJXOngz2",
        "u3PMJOP6ngxN",
        "dauF4eBmngu3",
        "0wOQAZs5pc--",
        "KSlN3yHqYklG",
        "qh40LWe3B5Kv",
        "bamQiAODYuh1",
        "PCki0wpMDMYi",
        "MCN_TNKqFjwU",
        "Zra6GiEjHmfm",
        "WDLoVHjLR4V5",
        "JcMwzZxoAimU",
        "gCX9965dhzqZ",
        "gIfDvo9L0UH2"
      ],
      "include_colab_link": true
    },
    "kernelspec": {
      "name": "python3",
      "display_name": "Python 3"
    },
    "language_info": {
      "name": "python"
    }
  },
  "cells": [
    {
      "cell_type": "markdown",
      "metadata": {
        "id": "view-in-github",
        "colab_type": "text"
      },
      "source": [
        "<a href=\"https://colab.research.google.com/github/bharathkumar7887/global-terrorism/blob/main/global_terrorism_analysis_project.ipynb\" target=\"_parent\"><img src=\"https://colab.research.google.com/assets/colab-badge.svg\" alt=\"Open In Colab\"/></a>"
      ]
    },
    {
      "cell_type": "markdown",
      "source": [
        "# **Project Name**    - ***Global Terrorism Dataset***\n",
        "\n"
      ],
      "metadata": {
        "id": "vncDsAP0Gaoa"
      }
    },
    {
      "cell_type": "markdown",
      "source": [
        "##### **Project Type**    - EDA\n",
        "##### **Contribution**    - Individual\n"
      ],
      "metadata": {
        "id": "beRrZCGUAJYm"
      }
    },
    {
      "cell_type": "markdown",
      "source": [
        "# **Project summary**\n"
      ],
      "metadata": {
        "id": "yQaldy8SH6Dl"
      }
    },
    {
      "cell_type": "markdown",
      "source": [
        "The objective of this project is to conduct an exploratory data analysis (EDA) of the Global Terrorism Database (GTD), an open-source dataset that contains comprehensive information on both domestic and international terrorist attacks occurring globally from 1970 through 2017. Developed and maintained by the National Consortium for the Study of Terrorism and Responses to Terrorism (START) at the University of Maryland, the database encompasses details of over 180,000 recorded terrorist incidents. The project's principal aim is to dig deep into this expansive dataset, identify significant trends, patterns, and insights pertaining to terrorism-related activities, and present these discoveries visually for an enhanced understanding.\n",
        "\n",
        "A critical aspect of this project is the extensive use of Python libraries tailored for data analysis and visualization. The cornerstone of data manipulation, including loading the dataset, cleaning data, and executing sophisticated aggregation operations, will be the Pandas library. This powerful, high-performance tool offers efficient data structures and makes the handling of large datasets effortless.\n",
        "\n",
        "To facilitate advanced numerical operations and speed up computation, the project employs the NumPy library. Given its proficiency in handling multi-dimensional arrays and matrices, NumPy is the perfect companion for data processing operations.\n",
        "\n",
        "The project doesn't stop at numerical data analysis; it brings the extracted insights to life through vivid, informative visualizations, courtesy of the Matplotlib and Seaborn libraries. These libraries provide an array of visualization styles, enabling the display of data in ways that are both appealing and informative. From bar plots and scatter plots to histograms and heatmaps, the project will utilize a minimum of five different visualizations to reveal relationships between variables and provide a graphical representation of the dataset's characteristics.\n",
        "\n",
        "Exploring the GTD through this project will pave the way for an intricate understanding of terrorism patterns over the past decades. The goal is to unveil potential trends in attack frequency, most targeted countries, preferred methods of attack, types of weapons used, casualties, and the evolution of terrorist organizations, among other relevant dimensions.\n",
        "\n",
        "By examining these factors, the project aims to provide a detailed overview of global terrorism trends, informing counter-terrorism strategies and policies. Additionally, the findings may also help understand the characteristics of regions prone to attacks and the reasons behind their vulnerability.\n",
        "\n",
        "In conclusion, this project offers a data-driven exploration into the dark world of terrorism, aiming to shed light on the complex patterns hidden within the enormity of the GTD. The end product of this project will be an array of valuable insights that have the potential to contribute substantially to ongoing counter-terrorism efforts and inform future research in this field. The combination of data manipulation, numerical computation, and graphic visualization is expected to yield a robust and comprehensive exploration of the dataset, leading to substantial key findings pertaining to global terrorism."
      ],
      "metadata": {
        "id": "DpeJGUA3kjGy"
      }
    },
    {
      "cell_type": "markdown",
      "source": [
        "# **GitHub Link -**"
      ],
      "metadata": {
        "id": "w6K7xa23Elo4"
      }
    },
    {
      "cell_type": "code",
      "source": [],
      "metadata": {
        "id": "mo_8L2BS-7wB"
      },
      "execution_count": null,
      "outputs": []
    },
    {
      "cell_type": "markdown",
      "source": [
        "# **Problem Statement**\n"
      ],
      "metadata": {
        "id": "VN55nb6i_Bgy"
      }
    },
    {
      "cell_type": "markdown",
      "source": [
        "Using exploratory data analysis (EDA) techniques on the GTD, identify the hot zones of terrorism globally and discern the evolving patterns of terrorist activities. What insights related to security issues can be derived from this analysis that could be instrumental in shaping counter-terrorism strategies?"
      ],
      "metadata": {
        "id": "UTzwCLdZ_ITB"
      }
    },
    {
      "cell_type": "markdown",
      "source": [
        "#### **Define Your Business Objective?**"
      ],
      "metadata": {
        "id": "PH-0ReGfmX4f"
      }
    },
    {
      "cell_type": "markdown",
      "source": [
        "The business objective of this project is to leverage the data contained within the Global Terrorism Database (GTD) to derive actionable insights into terrorist activities worldwide from 1970 to 2017. By conducting a comprehensive exploratory data analysis (EDA), the goal is to identify the key patterns, trends, and correlations related to global terrorism, thereby enabling better-informed decision-making for security analysts, policy-makers, and counter-terrorism agencies.\n",
        "\n",
        "Specifically, the objectives include:\n",
        "\n",
        "Identification of global \"hot zones\" for terrorist activities: By determining the most affected regions, we can better understand where resources might be best allocated to prevent future attacks.\n",
        "\n",
        "Analysis of frequency and intensity of attacks: Understanding how these have evolved over time can provide insights into the changing dynamics of terrorism and allow for more accurate risk assessments.\n",
        "\n",
        "Examination of methodologies and weapons used in attacks: This can shed light on the operational preferences of terrorist organizations and potentially provide early indicators of future threats.\n",
        "\n",
        "Assessment of casualty trends: This can help identify the most devastating types of attacks and allow for targeted response planning to minimize human loss.\n",
        "\n",
        "Unveiling patterns related to terrorist organizations: This can potentially aid in understanding their strategies, thereby supporting intelligence agencies in their counter-terrorism efforts."
      ],
      "metadata": {
        "id": "_GxGkKEt_XZJ"
      }
    },
    {
      "cell_type": "markdown",
      "source": [
        "# **General Guidelines** : -  "
      ],
      "metadata": {
        "id": "mDgbUHAGgjLW"
      }
    },
    {
      "cell_type": "markdown",
      "source": [
        "1.   Well-structured, formatted, and commented code is required.\n",
        "2.   Exception Handling, Production Grade Code & Deployment Ready Code will be a plus. Those students will be awarded some additional credits.\n",
        "     \n",
        "     The additional credits will have advantages over other students during Star Student selection.\n",
        "       \n",
        "             [ Note: - Deployment Ready Code is defined as, the whole .ipynb notebook should be executable in one go\n",
        "                       without a single error logged. ]\n",
        "\n",
        "3.   Each and every logic should have proper comments.\n",
        "4. You may add as many number of charts you want. Make Sure for each and every chart the following format should be answered.\n",
        "        \n",
        "\n",
        "```\n",
        "# Chart visualization code\n",
        "```\n",
        "            \n",
        "\n",
        "*   Why did you pick the specific chart?\n",
        "*   What is/are the insight(s) found from the chart?\n",
        "* Will the gained insights help creating a positive business impact?\n",
        "Are there any insights that lead to negative growth? Justify with specific reason.\n",
        "\n",
        "\n",
        "5. You have to create at least 20 logical & meaningful charts having important insights.\n",
        "\n",
        "[ Hints : - Do the Vizualization in  a structured way while following \"UBM\" Rule.\n",
        "\n",
        "U - Univariate Analysis,\n",
        "\n",
        "B - Bivariate Analysis (Numerical - Categorical, Numerical - Numerical, Categorical - Categorical)\n",
        "\n",
        "M - Multivariate Analysis\n",
        " ]\n",
        "\n",
        "\n",
        "\n",
        "\n",
        "\n"
      ],
      "metadata": {
        "id": "ZrxVaUj-hHfC"
      }
    },
    {
      "cell_type": "markdown",
      "source": [
        "# ***Let's Begin !***"
      ],
      "metadata": {
        "id": "O_i_v8NEhb9l"
      }
    },
    {
      "cell_type": "markdown",
      "source": [
        "## ***1. Know Your Data***"
      ],
      "metadata": {
        "id": "HhfV-JJviCcP"
      }
    },
    {
      "cell_type": "markdown",
      "source": [
        "### Import Libraries"
      ],
      "metadata": {
        "id": "Y3lxredqlCYt"
      }
    },
    {
      "cell_type": "code",
      "source": [
        "# Import Libraries\n",
        "import numpy as np\n",
        "import pandas as pd\n",
        "import matplotlib.pyplot as plt\n",
        "import matplotlib.ticker as ticker\n",
        "from matplotlib import animation\n",
        "pd.options.mode.chained_assignment = None\n",
        "import seaborn as sns\n",
        "\n",
        "from geopy.geocoders import Nominatim # # convert an address into latitude and longitude values\n",
        "import folium"
      ],
      "metadata": {
        "id": "M8Vqi-pPk-HR"
      },
      "execution_count": null,
      "outputs": []
    },
    {
      "cell_type": "markdown",
      "source": [
        "### Dataset Loading"
      ],
      "metadata": {
        "id": "3RnN4peoiCZX"
      }
    },
    {
      "cell_type": "code",
      "source": [
        "#mountin the drive\n",
        "from google.colab import drive\n",
        "drive.mount('/content/drive')"
      ],
      "metadata": {
        "id": "Vib5GjM7Ak97"
      },
      "execution_count": null,
      "outputs": []
    },
    {
      "cell_type": "code",
      "source": [
        "# Importing the dataset\n",
        "data_path='/content/drive/MyDrive/eda_project/Global_Terrorism_Data.csv'\n",
        "terrorism_df=pd.read_csv(data_path,encoding='ISO-8859-1' )"
      ],
      "metadata": {
        "id": "-rQa3xOB_NUr"
      },
      "execution_count": null,
      "outputs": []
    },
    {
      "cell_type": "markdown",
      "source": [
        "### Dataset First View"
      ],
      "metadata": {
        "id": "x71ZqKXriCWQ"
      }
    },
    {
      "cell_type": "code",
      "source": [
        "# Dataset First\n",
        "terrorism_df.head()"
      ],
      "metadata": {
        "id": "LWNFOSvLl09H"
      },
      "execution_count": null,
      "outputs": []
    },
    {
      "cell_type": "markdown",
      "source": [
        "### Dataset Rows & Columns count"
      ],
      "metadata": {
        "id": "7hBIi_osiCS2"
      }
    },
    {
      "cell_type": "code",
      "source": [
        "# Dataset Rows & Columns\n",
        "rows,columns=terrorism_df.shape\n",
        "print(f'rows ={rows}')\n",
        "print(f'columns={columns}')\n"
      ],
      "metadata": {
        "id": "Kllu7SJgmLij"
      },
      "execution_count": null,
      "outputs": []
    },
    {
      "cell_type": "markdown",
      "source": [
        "### Dataset Information"
      ],
      "metadata": {
        "id": "JlHwYmJAmNHm"
      }
    },
    {
      "cell_type": "code",
      "source": [
        "# Dataset Info\n",
        "terrorism_df.info()"
      ],
      "metadata": {
        "id": "e9hRXRi6meOf"
      },
      "execution_count": null,
      "outputs": []
    },
    {
      "cell_type": "markdown",
      "source": [
        "#### Duplicate Values"
      ],
      "metadata": {
        "id": "35m5QtbWiB9F"
      }
    },
    {
      "cell_type": "code",
      "source": [
        "# Dataset Duplicate Value Count\n",
        "duplicate_rows=terrorism_df.duplicated().sum()\n",
        "print(f'duplicate rows={duplicate_rows}')"
      ],
      "metadata": {
        "id": "1sLdpKYkmox0"
      },
      "execution_count": null,
      "outputs": []
    },
    {
      "cell_type": "markdown",
      "source": [
        "#### Missing Values/Null Values"
      ],
      "metadata": {
        "id": "PoPl-ycgm1ru"
      }
    },
    {
      "cell_type": "code",
      "source": [
        "# Missing Values/Null Values Count\n",
        "print(terrorism_df.isnull().sum())"
      ],
      "metadata": {
        "id": "GgHWkxvamxVg"
      },
      "execution_count": null,
      "outputs": []
    },
    {
      "cell_type": "code",
      "source": [
        "# Visualizing the missing values\n",
        "\n",
        "# Checking Null Value by plotting Heatmap\n",
        "sns.heatmap(terrorism_df.isnull(), cbar=False)"
      ],
      "metadata": {
        "id": "3q5wnI3om9sJ"
      },
      "execution_count": null,
      "outputs": []
    },
    {
      "cell_type": "markdown",
      "source": [
        "## ***2. Understanding Your Variables***"
      ],
      "metadata": {
        "id": "nA9Y7ga8ng1Z"
      }
    },
    {
      "cell_type": "code",
      "source": [
        "# Dataset Columns\n",
        "terrorism_df.columns"
      ],
      "metadata": {
        "id": "n87BaXA_42-R"
      },
      "execution_count": null,
      "outputs": []
    },
    {
      "cell_type": "code",
      "source": [
        "# Dataset Describe\n",
        "terrorism_df.describe(include='all')"
      ],
      "metadata": {
        "id": "DnOaZdaE5Q5t"
      },
      "execution_count": null,
      "outputs": []
    },
    {
      "cell_type": "markdown",
      "source": [
        "### What did you know about your dataset?"
      ],
      "metadata": {
        "id": "H0kj-8xxnORC"
      }
    },
    {
      "cell_type": "markdown",
      "source": [
        "### Variables Description"
      ],
      "metadata": {
        "id": "PBTbrJXOngz2"
      }
    },
    {
      "cell_type": "markdown",
      "source": [
        "eventid: Unique ID for each event or terrorist attack.\n",
        "\n",
        "iyear: Year the terrorist attack occurred.\n",
        "\n",
        "imonth: Month the terrorist attack occurred.\n",
        "\n",
        "iday: Day the terrorist attack occurred.\n",
        "\n",
        "country_txt: Name of the country where the terrorist attack occurred.\n",
        "\n",
        "region_txt: Name of the region where the terrorist attack occurred.\n",
        "\n",
        "city: City where the terrorist attack occurred.\n",
        "\n",
        "attacktype1_txt: The general method of attack employed.\n",
        "\n",
        "target1: The specific person, building, installation, etc., that was targeted.\n",
        "\n",
        "nkill: Number of confirmed fatalities for the incident.\n",
        "\n",
        "nwound: Number of confirmed non-fatal injuries.\n",
        "\n",
        "gname: Name of the group that carried out the attack.\n"
      ],
      "metadata": {
        "id": "gfoNAAC-nUe_"
      }
    },
    {
      "cell_type": "markdown",
      "source": [
        "### Check Unique Values for each variable."
      ],
      "metadata": {
        "id": "u3PMJOP6ngxN"
      }
    },
    {
      "cell_type": "code",
      "source": [
        "# Check Unique Values for each variable(most important)\n",
        "\n",
        "# unique countries\n",
        "unique_countries=terrorism_df['country_txt'].unique()\n",
        "print(unique_countries)"
      ],
      "metadata": {
        "id": "zms12Yq5n-jE"
      },
      "execution_count": null,
      "outputs": []
    },
    {
      "cell_type": "code",
      "source": [
        "# unique year\n",
        "unique_year=terrorism_df['iyear'].unique()\n",
        "print(unique_year)"
      ],
      "metadata": {
        "id": "FatiwLOjMUsT"
      },
      "execution_count": null,
      "outputs": []
    },
    {
      "cell_type": "code",
      "source": [
        "#unique wepons\n",
        "unique_attack_type=terrorism_df['attacktype1_txt'].unique()\n",
        "print(unique_attack_type)"
      ],
      "metadata": {
        "id": "mw0DY6R2NPgx"
      },
      "execution_count": null,
      "outputs": []
    },
    {
      "cell_type": "code",
      "source": [
        "#unique terrorist groups\n",
        "unique_terrorist_groups=terrorism_df['gname'].unique()\n",
        "print(unique_terrorist_groups)"
      ],
      "metadata": {
        "id": "juuYHx0INuH4"
      },
      "execution_count": null,
      "outputs": []
    },
    {
      "cell_type": "markdown",
      "source": [
        "## 3. ***Data Wrangling***"
      ],
      "metadata": {
        "id": "dauF4eBmngu3"
      }
    },
    {
      "cell_type": "code",
      "source": [
        "# renaming columns to make more sense\n",
        "terrorism_df.rename(columns={'iyear':'Year', 'imonth':'Month', 'iday':'Day','country_txt':'Country','region_txt':'Region','provstate':'State','attacktype1_txt':'Attack_type','targtype1_txt':'Target_type','gname':'Terrorist_group','weaptype1_txt':'Weapons_used','nkill':'People_killed','nwound':'People_wounded',},inplace=True)"
      ],
      "metadata": {
        "id": "usXFhy2uP4YX"
      },
      "execution_count": null,
      "outputs": []
    },
    {
      "cell_type": "code",
      "source": [
        "print(list(terrorism_df.columns))"
      ],
      "metadata": {
        "id": "s5mWglYOtaG3"
      },
      "execution_count": null,
      "outputs": []
    },
    {
      "cell_type": "code",
      "source": [
        "#selecting only specific columns which are related to our analyisis\n",
        "selected_columns=['eventid', 'Year', 'Month', 'Day','Country' ,'Region', 'State', 'city', 'latitude', 'longitude','Attack_type','Target_type','natlty1_txt','Terrorist_group','Weapons_used','People_killed', 'People_wounded']\n",
        "selected_df=terrorism_df[selected_columns]\n",
        "selected_df.head()"
      ],
      "metadata": {
        "id": "1B7qQmrxnzNv"
      },
      "execution_count": null,
      "outputs": []
    },
    {
      "cell_type": "code",
      "source": [
        "# checking for null values\n",
        "selected_df.isna().sum()"
      ],
      "metadata": {
        "id": "Yfc0-0V3p_Uo"
      },
      "execution_count": null,
      "outputs": []
    },
    {
      "cell_type": "markdown",
      "source": [
        "### Data Wrangling Code"
      ],
      "metadata": {
        "id": "bKJF3rekwFvQ"
      }
    },
    {
      "cell_type": "markdown",
      "source": [
        "### What all manipulations have you done and insights you found?"
      ],
      "metadata": {
        "id": "MSa1f5Uengrz"
      }
    },
    {
      "cell_type": "markdown",
      "source": [
        "Since it contains 135 columns. They have a huge proportion in dataset and Learning them doesn't make any sense. So, we will rename the columns name for better understaning and then we will only extract necessary columns.\n",
        "\n"
      ],
      "metadata": {
        "id": "l7Sf9RblRrPD"
      }
    },
    {
      "cell_type": "markdown",
      "source": [
        "## ***4. Data Vizualization, Storytelling & Experimenting with charts : Understand the relationships between variables***"
      ],
      "metadata": {
        "id": "GF8Ens_Soomf"
      }
    },
    {
      "cell_type": "markdown",
      "source": [
        "#### Chart - 1 ( What is the trend of terrorist attacks over the years?)"
      ],
      "metadata": {
        "id": "0wOQAZs5pc--"
      }
    },
    {
      "cell_type": "code",
      "source": [
        "f = plt.figure(figsize=(14, 7))\n",
        "\n",
        "sns.set(font_scale=1.1)\n",
        "year_count = sns.countplot(x='Year', data=selected_df, palette='flare')\n",
        "year_count.set_xticklabels(year_count.get_xticklabels(), rotation=70)\n",
        "plt.ylabel('No of attacks', fontsize=12)\n",
        "plt.xlabel('Year', fontsize=12)\n",
        "plt.title('Number of Terrorist Attacks Year by Year', fontsize=12)\n"
      ],
      "metadata": {
        "id": "7v_ESjsspbW7"
      },
      "execution_count": null,
      "outputs": []
    },
    {
      "cell_type": "markdown",
      "source": [
        "**1. Why did you pick the specific chart?**"
      ],
      "metadata": {
        "id": "4cqdM0qyANAE"
      }
    },
    {
      "cell_type": "markdown",
      "source": [
        "A line plot was chosen because it provides an excellent visual representation of the trend over time."
      ],
      "metadata": {
        "id": "XESiWehPqBRc"
      }
    },
    {
      "cell_type": "markdown",
      "source": [
        "**2. What is/are the insight(s) found from the chart?**"
      ],
      "metadata": {
        "id": "lQ7QKXXCp7Bj"
      }
    },
    {
      "cell_type": "markdown",
      "source": [
        "The insight that can be gained is the trend of terrorist activities over the years. We can see if the frequency of attacks is increasing, decreasing, or remaining relatively stable."
      ],
      "metadata": {
        "id": "C_j1G7yiqdRP"
      }
    },
    {
      "cell_type": "markdown",
      "source": [
        " **3. Will the gained insights help creating a positive business impact?**\n",
        "Are there any insights that lead to negative growth? Justify with specific reason."
      ],
      "metadata": {
        "id": "448CDAPjqfQr"
      }
    },
    {
      "cell_type": "markdown",
      "source": [
        "These insights are crucial for predicting future trends, which could help law enforcement and security agencies plan resources and strategies. However, if the trend shows an increase in terrorist activities, this could lead to a negative impact as it indicates a growing problem."
      ],
      "metadata": {
        "id": "3cspy4FjqxJW"
      }
    },
    {
      "cell_type": "markdown",
      "source": [
        "#### Chart - 2 ( Which are the top ten countries with most the terrorist attacks?)"
      ],
      "metadata": {
        "id": "KSlN3yHqYklG"
      }
    },
    {
      "cell_type": "code",
      "source": [
        "fig= plt.figure(figsize=(13, 7))\n",
        "terror_country = sns.barplot(x=selected_df['Country'].value_counts()[0:10].index, y=selected_df['Country'].value_counts()[0:10], palette='RdYlGn')\n",
        "terror_country.set_xticklabels(terror_country.get_xticklabels(), rotation=70)\n",
        "terror_country.set_xlabel('Country', fontsize=12)\n",
        "terror_country.set_ylabel('No of attacks', fontsize=12)\n",
        "plt.title('Top 10 Countries: Most Attacks by Terrorist Groups', fontsize=12)\n",
        "plt.show()"
      ],
      "metadata": {
        "id": "R4YgtaqtYklH"
      },
      "execution_count": null,
      "outputs": []
    },
    {
      "cell_type": "markdown",
      "source": [
        "**1. Why did you pick the specific chart?**"
      ],
      "metadata": {
        "id": "t6dVpIINYklI"
      }
    },
    {
      "cell_type": "markdown",
      "source": [
        "A bar plot is suitable for categorical data and helps in comparing the number of terrorist activities in each country."
      ],
      "metadata": {
        "id": "5aaW0BYyYklI"
      }
    },
    {
      "cell_type": "markdown",
      "source": [
        "**2. What is/are the insight(s) found from the chart?**"
      ],
      "metadata": {
        "id": "ijmpgYnKYklI"
      }
    },
    {
      "cell_type": "markdown",
      "source": [
        "We can see the top ten countries with the most terrorist atttacks, providing insight into geographical hotspots of terrorism."
      ],
      "metadata": {
        "id": "PSx9atu2YklI"
      }
    },
    {
      "cell_type": "markdown",
      "source": [
        "**3. Will the gained insights help creating a positive business impact?**\n",
        "**Are there any insights that lead to negative growth? Justify with specific reason.**"
      ],
      "metadata": {
        "id": "-JiQyfWJYklI"
      }
    },
    {
      "cell_type": "markdown",
      "source": [
        "This information is useful for focusing resources and counter-terrorism efforts on the most affected areas. A high frequency of attacks in a particular country could discourage investment and tourism, leading to negative growth."
      ],
      "metadata": {
        "id": "BcBbebzrYklV"
      }
    },
    {
      "cell_type": "markdown",
      "source": [
        "#### Chart - 3 ( which regions have the most terrorist attacks?)"
      ],
      "metadata": {
        "id": "qh40LWe3B5Kv"
      }
    },
    {
      "cell_type": "code",
      "source": [
        "\n",
        "plt.figure(figsize=(15,7))\n",
        "sns.countplot(data=selected_df, x='Region')\n",
        "plt.title('no of terrorist activities by region')\n",
        "plt.xticks(rotation=90)\n",
        "plt.show()\n"
      ],
      "metadata": {
        "id": "w-dQZjcoB5K3"
      },
      "execution_count": null,
      "outputs": []
    },
    {
      "cell_type": "markdown",
      "source": [
        "**1. Why did you pick the specific chart?**"
      ],
      "metadata": {
        "id": "CEjD464vB5K4"
      }
    },
    {
      "cell_type": "markdown",
      "source": [
        "A bar plot is suitable for categorical data and helps in comparing the number of terrorist activities in each region."
      ],
      "metadata": {
        "id": "eoTWeZ91B5K4"
      }
    },
    {
      "cell_type": "markdown",
      "source": [
        "**2. What is/are the insight(s) found from the chart?**"
      ],
      "metadata": {
        "id": "Q2dKHiZGB5K4"
      }
    },
    {
      "cell_type": "markdown",
      "source": [
        "We can see which regions experience the most terrorist activities, providing insight into geographical hotspots of terrorism."
      ],
      "metadata": {
        "id": "zEx8vWkJB5K4"
      }
    },
    {
      "cell_type": "markdown",
      "source": [
        "**3. Will the gained insights help creating a positive business impact?**\n",
        "**Are there any insights that lead to negative growth? Justify with specific reason.**"
      ],
      "metadata": {
        "id": "ntpNt6HRB5K4"
      }
    },
    {
      "cell_type": "markdown",
      "source": [
        "This information is useful for focusing resources and counter-terrorism efforts on the most affected areas. A high frequency of attacks in a particular region could discourage investment and tourism, leading to negative growth."
      ],
      "metadata": {
        "id": "wlhz9UgjB5K4"
      }
    },
    {
      "cell_type": "markdown",
      "source": [
        "#### Chart - 4 ( which are the Top 10 terrorist groups with highest no of attacks?)"
      ],
      "metadata": {
        "id": "bamQiAODYuh1"
      }
    },
    {
      "cell_type": "code",
      "source": [
        "\n",
        "plt.figure(figsize=(15,7))\n",
        "\n",
        "# Get the count of each group\n",
        "group_data = selected_df[selected_df['Terrorist_group'] != 'Unknown']['Terrorist_group'].value_counts().head(10)\n",
        "\n",
        "\n",
        "sns.barplot(x=group_data.index, y=group_data.values)\n",
        "\n",
        "plt.title('Top 10 terrorist groups with highest no of attacks')\n",
        "plt.xticks(rotation=90)\n",
        "plt.xlabel('Terrorist Group')\n",
        "plt.ylabel('no of attacks')\n",
        "plt.show()\n",
        "\n"
      ],
      "metadata": {
        "id": "TIJwrbroYuh3"
      },
      "execution_count": null,
      "outputs": []
    },
    {
      "cell_type": "markdown",
      "source": [
        "**1. Why did you pick the specific chart?**"
      ],
      "metadata": {
        "id": "QHF8YVU7Yuh3"
      }
    },
    {
      "cell_type": "markdown",
      "source": [
        "A bar plot is suitable for comparing the number of attacks by different terrorist groups."
      ],
      "metadata": {
        "id": "dcxuIMRPYuh3"
      }
    },
    {
      "cell_type": "markdown",
      "source": [
        "**2. What is/are the insight(s) found from the chart?**"
      ],
      "metadata": {
        "id": "GwzvFGzlYuh3"
      }
    },
    {
      "cell_type": "markdown",
      "source": [
        "We can identify which groups are responsible for the most terrorist activities."
      ],
      "metadata": {
        "id": "uyqkiB8YYuh3"
      }
    },
    {
      "cell_type": "markdown",
      "source": [
        "**3. Will the gained insights help creating a positive business impact?\n",
        "Are there any insights that lead to negative growth? Justify with specific reason.**"
      ],
      "metadata": {
        "id": "qYpmQ266Yuh3"
      }
    },
    {
      "cell_type": "markdown",
      "source": [
        "This information could be important for intelligence agencies in prioritizing threats and focusing their counter-terrorism efforts. If a particular group is increasingly active, it could contribute to instability and negative growth."
      ],
      "metadata": {
        "id": "_WtzZ_hCYuh4"
      }
    },
    {
      "cell_type": "markdown",
      "source": [
        "#### Chart - 5 (What are the main targets of terrorista?)"
      ],
      "metadata": {
        "id": "PCki0wpMDMYi"
      }
    },
    {
      "cell_type": "code",
      "source": [
        "from wordcloud import WordCloud\n",
        "cities = selected_df.Target_type.dropna(False)\n",
        "plt.subplots(figsize=(20,10))\n",
        "wordcloud = WordCloud(background_color = 'white',\n",
        "                     width = 512,\n",
        "                     height = 384,).generate(' '.join(cities))\n",
        "plt.axis('off')\n",
        "plt.imshow(wordcloud)\n",
        "plt.title('Most Popular Targets',\n",
        "        fontdict={'family': 'serif',\n",
        "        'color':  'black',\n",
        "        'weight': 'bold',\n",
        "        'size': 26,})\n",
        "plt.show()\n",
        "\n"
      ],
      "metadata": {
        "id": "Eo5seqvtDMYq"
      },
      "execution_count": null,
      "outputs": []
    },
    {
      "cell_type": "markdown",
      "source": [
        "**1. Why did you pick the specific chart?**"
      ],
      "metadata": {
        "id": "kdBQ2CYjDMYq"
      }
    },
    {
      "cell_type": "markdown",
      "source": [
        "A worldcloud is used beacuse it can represnt the places where most terrorist attacks happens.It can read easily ."
      ],
      "metadata": {
        "id": "OhnawY8hDMYq"
      }
    },
    {
      "cell_type": "markdown",
      "source": [
        "**2. What is/are the insight(s) found from the chart?**"
      ],
      "metadata": {
        "id": "FGVPfvL2DMYq"
      }
    },
    {
      "cell_type": "markdown",
      "source": [
        "We can conclude that where people gather the most , terrorist tend to attack those places most often."
      ],
      "metadata": {
        "id": "cf91LQ-xDMYq"
      }
    },
    {
      "cell_type": "markdown",
      "source": [
        "**3. Will the gained insights help creating a positive business impact?\n",
        "Are there any insights that lead to negative growth? Justify with specific reason.**"
      ],
      "metadata": {
        "id": "c38lRZmnDMYq"
      }
    },
    {
      "cell_type": "markdown",
      "source": [
        "Where people gather the most , we can increase security measures in order to tackle the problem."
      ],
      "metadata": {
        "id": "K8Dy-ZRgDMYq"
      }
    },
    {
      "cell_type": "markdown",
      "source": [
        "#### Chart - 6 (What is trend of region based terrorist attacks over the years?)"
      ],
      "metadata": {
        "id": "MCN_TNKqFjwU"
      }
    },
    {
      "cell_type": "code",
      "source": [
        "region_year = pd.crosstab(selected_df.Year,selected_df.Region)\n",
        "color_list_reg_yr = ['palegreen', 'lime', 'green', 'Aqua', 'skyblue', 'darkred', 'darkgray', 'tan', 'orangered', 'plum', 'salmon', 'mistyrose']\n",
        "region_year.plot(figsize=(14, 10), fontsize=12, color=color_list_reg_yr)\n",
        "plt.xlabel('Year', fontsize=12)\n",
        "plt.ylabel('Number of Attacks in a Year', fontsize=12)\n",
        "plt.title('Region Based Terrorist Attacks over Years', fontsize=12)\n",
        "plt.show()\n",
        "\n"
      ],
      "metadata": {
        "id": "7QZ3sO8KFjwU"
      },
      "execution_count": null,
      "outputs": []
    },
    {
      "cell_type": "markdown",
      "source": [
        "**1. Why did you pick the specific chart?**"
      ],
      "metadata": {
        "id": "5vvkvfWmFjwU"
      }
    },
    {
      "cell_type": "markdown",
      "source": [
        "A multiline chart is best used to show trends over time for different regions."
      ],
      "metadata": {
        "id": "6Dp2an86FjwU"
      }
    },
    {
      "cell_type": "markdown",
      "source": [
        "**2. What is/are the insight(s) found from the chart?**"
      ],
      "metadata": {
        "id": "orXPWmaSFjwU"
      }
    },
    {
      "cell_type": "markdown",
      "source": [
        "From the start of the 20th century there has been a steep rise in terrorist attacks in the middle east compared to other regions."
      ],
      "metadata": {
        "id": "5XChXgNVFjwU"
      }
    },
    {
      "cell_type": "markdown",
      "source": [
        "**3. Will the gained insights help creating a positive business impact?\n",
        "Are there any insights that lead to negative growth? Justify with specific reason.**"
      ],
      "metadata": {
        "id": "HNSpvp0pFjwU"
      }
    },
    {
      "cell_type": "markdown",
      "source": [
        "This information could be important for intelligence agencies  and the un in prioritizing threats and focusing their counter-terrorism efforts more towards region with more kinds of these events.\n"
      ],
      "metadata": {
        "id": "hjuhuorhFjwU"
      }
    },
    {
      "cell_type": "markdown",
      "source": [
        "#### Chart - 7 (What are the different types of terrorist attacks?)"
      ],
      "metadata": {
        "id": "Zra6GiEjHmfm"
      }
    },
    {
      "cell_type": "code",
      "source": [
        "f = plt.figure(figsize=(13, 8))\n",
        "\n",
        "sns.set(font_scale=0.9)\n",
        "year_count = sns.countplot(x='Attack_type', data=selected_df,)\n",
        "year_count.set_xticklabels(year_count.get_xticklabels(), rotation=70)\n",
        "plt.xlabel('Methods of Attack', fontsize=12)\n",
        "plt.ylabel('No of attacks', fontsize=12)\n",
        "plt.title('Types of Terrorist Attack ', fontsize=12)\n",
        "\n",
        "\n",
        "\n"
      ],
      "metadata": {
        "id": "FsGwqs4-Hmfv"
      },
      "execution_count": null,
      "outputs": []
    },
    {
      "cell_type": "markdown",
      "source": [
        "**1. Why did you pick the specific chart?**"
      ],
      "metadata": {
        "id": "GMw1xi1oHmfv"
      }
    },
    {
      "cell_type": "markdown",
      "source": [
        "A bar plot is suitable for comparing the different types  of attacks by  terrorist groups."
      ],
      "metadata": {
        "id": "d4wwbAxlHmfv"
      }
    },
    {
      "cell_type": "markdown",
      "source": [
        "**2. What is/are the insight(s) found from the chart?**"
      ],
      "metadata": {
        "id": "GaL9CaDfHmfv"
      }
    },
    {
      "cell_type": "markdown",
      "source": [
        "We can identify  the most common type of terrorist attcks."
      ],
      "metadata": {
        "id": "nJfC0SSDHmfv"
      }
    },
    {
      "cell_type": "markdown",
      "source": [
        "**3. Will the gained insights help creating a positive business impact?\n",
        "Are there any insights that lead to negative growth? Justify with specific reason.**"
      ],
      "metadata": {
        "id": "Bozv_9_JHmfv"
      }
    },
    {
      "cell_type": "markdown",
      "source": [
        "This information could be important for intelligence agencies in prioritizing threats and focusing their counter-terrorism efforts. If a paticular type of attack is more common then they can employ strategies to combact those specific type of attack.ex- anti bomb squad"
      ],
      "metadata": {
        "id": "HSk6912bHmfw"
      }
    },
    {
      "cell_type": "markdown",
      "source": [
        "#### Chart - 1 ( What is the trend of terrorist attacks over the years?)"
      ],
      "metadata": {
        "id": "WDLoVHjLR4V5"
      }
    },
    {
      "cell_type": "code",
      "source": [
        "f = plt.figure(figsize=(14, 7))\n",
        "\n",
        "sns.set(font_scale=1.1)\n",
        "year_count = sns.countplot(x='Year', data=selected_df, palette='flare')\n",
        "year_count.set_xticklabels(year_count.get_xticklabels(), rotation=70)\n",
        "plt.ylabel('No of attacks', fontsize=12)\n",
        "plt.xlabel('Year', fontsize=12)\n",
        "plt.title('Number of Terrorist Attacks Year by Year', fontsize=12)\n"
      ],
      "metadata": {
        "id": "T4wklMOBR4WC"
      },
      "execution_count": null,
      "outputs": []
    },
    {
      "cell_type": "markdown",
      "source": [
        "**1. Why did you pick the specific chart?**"
      ],
      "metadata": {
        "id": "-QMG73APR4WC"
      }
    },
    {
      "cell_type": "markdown",
      "source": [
        "A line plot was chosen because it provides an excellent visual representation of the trend over time."
      ],
      "metadata": {
        "id": "Ceh1KH3XR4WC"
      }
    },
    {
      "cell_type": "markdown",
      "source": [
        "**2. What is/are the insight(s) found from the chart?**"
      ],
      "metadata": {
        "id": "lMDhQGP2R4WC"
      }
    },
    {
      "cell_type": "markdown",
      "source": [
        "The insight that can be gained is the trend of terrorist activities over the years. We can see if the frequency of attacks is increasing, decreasing, or remaining relatively stable."
      ],
      "metadata": {
        "id": "3p_H1acSR4WC"
      }
    },
    {
      "cell_type": "markdown",
      "source": [
        " **3. Will the gained insights help creating a positive business impact?**\n",
        "Are there any insights that lead to negative growth? Justify with specific reason."
      ],
      "metadata": {
        "id": "qM_aEVLZR4WC"
      }
    },
    {
      "cell_type": "markdown",
      "source": [
        "These insights are crucial for predicting future trends, which could help law enforcement and security agencies plan resources and strategies. However, if the trend shows an increase in terrorist activities, this could lead to a negative impact as it indicates a growing problem."
      ],
      "metadata": {
        "id": "18Cc1mwGR4WC"
      }
    },
    {
      "cell_type": "markdown",
      "source": [
        "## **5. Solution to Business Objective**"
      ],
      "metadata": {
        "id": "JcMwzZxoAimU"
      }
    },
    {
      "cell_type": "markdown",
      "source": [
        "**What do you suggest the client to achieve Business Objective ?**\n"
      ],
      "metadata": {
        "id": "8G2x9gOozGDZ"
      }
    },
    {
      "cell_type": "markdown",
      "source": [
        "Based on the exploratory data analysis conducted on the Global Terrorism Dataset, there are several recommendations that could be provided to a client interested in using this information to decrease the impact of terrorism, and thereby meet the stated business objective.\n",
        "\n",
        "Focus on Hotspot Regions: The regions with the highest frequencies of terrorist activities should be prioritized for intervention efforts. These regions may need more robust security measures, targeted socio-economic programs to address root causes of terrorism, or more substantial international assistance.\n",
        "\n",
        "Understand Yearly Trends: Keeping track of the rise or fall of terrorist incidents over the years could help forecast potential future threats and adjust counter-terrorism strategies accordingly.\n",
        "\n",
        "Prioritize Major Threat Groups: Our analysis shows that certain terrorist groups are more active than others. Intelligence efforts should be concentrated on these high-impact groups to prevent future attacks.\n",
        "\n",
        "Target Most Common Attack Types: Understanding the most common types of attacks used by terrorists can help in developing preventive measures and response strategies. For instance, if bombings are the most common attack type, more resources could be directed towards bomb detection and disposal."
      ],
      "metadata": {
        "id": "La41evgLVPYh"
      }
    },
    {
      "cell_type": "markdown",
      "source": [
        "# **Conclusion**"
      ],
      "metadata": {
        "id": "gCX9965dhzqZ"
      }
    },
    {
      "cell_type": "markdown",
      "source": [
        "The Exploratory Data Analysis (EDA) conducted on the Global Terrorism Dataset provided significant insights into trends and patterns in global terrorism from 1970 through 2017. With the help of the Python libraries Pandas, Matplotlib, Seaborn, and NumPy, we were able to handle, visualize and interpret complex data related to terrorist activities.\n",
        "\n",
        "Through this analysis, we identified trends over time, regional hotspots, dominant terrorist groups, and preferred modes of attacks. All these findings are crucial for devising effective counter-terrorism strategies and interventions.\n",
        "\n",
        "The process underscored the power of data-driven decision-making. By using EDA, we were able to transform raw data into meaningful insights. For instance, understanding that certain regions are more prone to terrorist attacks or that specific terrorist groups are more active allows security agencies and policymakers to allocate resources more efficiently, thereby potentially saving lives and property.\n",
        "\n",
        "However, while this data analysis provides a robust foundation, it's important to acknowledge that addressing terrorism requires more than just understanding past data. It necessitates a comprehensive approach that includes current intelligence, geopolitical considerations, and on-the-ground realities.\n",
        "\n",
        "To conclude, this project demonstrates the potential of data analysis in informing and shaping counter-terrorism efforts. It provides a useful starting point for further study and action, emphasizing the importance of continuous data collection, analysis, and interpretation in tackling global security challenges like terrorism."
      ],
      "metadata": {
        "id": "Fjb1IsQkh3yE"
      }
    },
    {
      "cell_type": "markdown",
      "source": [
        "### ***Hurrah! You have successfully completed your EDA Capstone Project !!!***"
      ],
      "metadata": {
        "id": "gIfDvo9L0UH2"
      }
    }
  ]
}